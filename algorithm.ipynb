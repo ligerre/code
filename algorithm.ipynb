{
 "cells": [
  {
   "cell_type": "code",
   "execution_count": 1,
   "metadata": {},
   "outputs": [],
   "source": [
    "import numpy as np\n",
    "import math"
   ]
  },
  {
   "cell_type": "code",
   "execution_count": 2,
   "metadata": {},
   "outputs": [],
   "source": [
    "def proj_GD(oracle,proj,x0,niters,lr=0.001):\n",
    "    tol = 10**(-9)\n",
    "    x_k = np.copy(x0)\n",
    "    res = []\n",
    "    eta = lr\n",
    "    theta = 100000\n",
    "    prev_x = np.copy(x_k)\n",
    "    value, grad_x = oracle(x_k)\n",
    "    res.append(value)\n",
    "    x_k = proj(x_k-eta*grad_x)\n",
    "    \n",
    "    for i in range(niters):\n",
    "        prev_grad = np.copy(grad_x)\n",
    "        value, grad_x = oracle(x_k)\n",
    "        res.append(value)\n",
    "        if np.linalg.norm(grad_x-prev_grad)<=tol:\n",
    "            break\n",
    "        prev_eta = eta\n",
    "        eta = min(math.sqrt(1+theta)*prev_eta,np.linalg.norm(x_k-prev_x)/(2*np.linalg.norm(grad_x-prev_grad)))\n",
    "\n",
    "        prev_x = np.copy(x_k)\n",
    "      \n",
    "        x_k = proj(x_k-eta*grad_x)\n",
    "\n",
    "        theta = eta/prev_eta\n",
    "    \n",
    "    return res"
   ]
  },
  {
   "cell_type": "code",
   "execution_count": 3,
   "metadata": {},
   "outputs": [],
   "source": [
    "def NCGD(oracle,proj,projN,x0,niters,lr=0.001):\n",
    "    tol = 10**(-9)\n",
    "    x_k = np.copy(x0)\n",
    "    res = []\n",
    "    eta = lr\n",
    "    theta = 100000\n",
    "    prev_x = np.copy(x_k)\n",
    "\n",
    "    value, grad_x = oracle(x_k)\n",
    "    res.append(value)\n",
    "    grad_x_p = grad_x - projN(x_k,grad_x)\n",
    "    x_k = proj(x_k-eta*grad_x_p)\n",
    "    \n",
    "    for i in range(niters):\n",
    "        prev_grad = np.copy(grad_x)\n",
    "        value, grad_x = oracle(x_k)\n",
    "        res.append(value)\n",
    "        if np.linalg.norm(grad_x-prev_grad)<=tol:\n",
    "            break\n",
    "        prev_eta = eta\n",
    "        eta = min(math.sqrt(1+theta)*prev_eta,np.linalg.norm(x_k-prev_x)/(2*np.linalg.norm(grad_x-prev_grad)))\n",
    "\n",
    "        prev_x = np.copy(x_k)\n",
    "        \n",
    "        grad_x_p = grad_x - projN(x_k,grad_x)\n",
    "        x_k = proj(x_k-eta*grad_x_p)\n",
    "\n",
    "        theta = eta/prev_eta\n",
    "    \n",
    "    return res"
   ]
  }
 ],
 "metadata": {
  "kernelspec": {
   "display_name": "Python 3",
   "language": "python",
   "name": "python3"
  },
  "language_info": {
   "codemirror_mode": {
    "name": "ipython",
    "version": 3
   },
   "file_extension": ".py",
   "mimetype": "text/x-python",
   "name": "python",
   "nbconvert_exporter": "python",
   "pygments_lexer": "ipython3",
   "version": "3.10.12"
  }
 },
 "nbformat": 4,
 "nbformat_minor": 2
}
