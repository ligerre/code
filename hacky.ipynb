{
 "cells": [
  {
   "cell_type": "code",
   "execution_count": 1,
   "metadata": {},
   "outputs": [],
   "source": [
    "import numpy as np\n",
    "import copy\n",
    "from matplotlib import pyplot as plt"
   ]
  },
  {
   "cell_type": "code",
   "execution_count": 2,
   "metadata": {},
   "outputs": [],
   "source": [
    "rng = np.random.default_rng()"
   ]
  },
  {
   "cell_type": "code",
   "execution_count": 3,
   "metadata": {},
   "outputs": [],
   "source": [
    "def eigenvalue_distribution(disType,n):\n",
    "    if disType == 'power':\n",
    "        eigen = rng.exponential(1,n)\n",
    "    elif disType == 'linear':\n",
    "        eigen = np.linspace(0.1,1000,n)+0.0001*np.random.rand(n)\n",
    "    elif disType == 'topheavy':\n",
    "        eigen = np.linspace(0.1,1000,n)+0.0001*np.random.rand(n)\n",
    "        k = rng.integers(n//4,n//2,size=1)\n",
    "        for i in range(k[0]):\n",
    "            eigen[i]=1000\n",
    "    elif disType == 'botheavy':\n",
    "        eigen = np.linspace(0.1,1000,n)+0.0001*np.random.rand(n)\n",
    "        k = rng.integers(n//4,n//2,size=1)\n",
    "        for i in range(k[0]):\n",
    "            eigen[-(i+1)]=0.1\n",
    "    eigen[::-1].sort()\n",
    "    eigen[0]=1000\n",
    "    eigen[-1]=0.1\n",
    "    return eigen"
   ]
  },
  {
   "cell_type": "code",
   "execution_count": 4,
   "metadata": {},
   "outputs": [],
   "source": [
    "n = 200\n",
    "rng = np.random.default_rng()\n",
    "eigen = eigenvalue_distribution('linear',n)\n",
    "A = np.diag(eigen)\n",
    "x_0 = np.random.rand(n)\n",
    "L = eigen[0]"
   ]
  },
  {
   "cell_type": "code",
   "execution_count": 5,
   "metadata": {},
   "outputs": [],
   "source": [
    "def U(x,p):\n",
    "    res =0\n",
    "    for i in range(n):\n",
    "        res += (x[i]**2)*(eigen[i]**p)\n",
    "    return res"
   ]
  },
  {
   "cell_type": "code",
   "execution_count": 6,
   "metadata": {},
   "outputs": [],
   "source": [
    "def S(x,p):\n",
    "    return U(x,p)/U(x,p+1)"
   ]
  },
  {
   "cell_type": "code",
   "execution_count": 7,
   "metadata": {},
   "outputs": [],
   "source": [
    "def GD(x0,A,niters):\n",
    "    x = np.copy(x0)\n",
    "    residual = []\n",
    "    for i in range(niters):\n",
    "        x=x-(1/L)*A@x\n",
    "        residual.append(U(x,0))\n",
    "    return residual"
   ]
  },
  {
   "cell_type": "code",
   "execution_count": 8,
   "metadata": {},
   "outputs": [],
   "source": [
    "def Polyak(x0,A,niters):\n",
    "    x = np.copy(x0)\n",
    "    residual = []\n",
    "    for i in range(niters):\n",
    "        x=x-S(x,1)*A@x\n",
    "        residual.append(U(x,0))\n",
    "    return residual"
   ]
  },
  {
   "cell_type": "code",
   "execution_count": 9,
   "metadata": {},
   "outputs": [],
   "source": [
    "def Hacky1(x0,A,niters):\n",
    "    x = np.copy(x0)\n",
    "    residual = []\n",
    "    for i in range(niters):\n",
    "        #p = np.random.choice([1,3],1)\n",
    "        p=3\n",
    "        x= x -S(x,p)*A@x\n",
    "        residual.append(U(x,0))\n",
    "    return residual"
   ]
  },
  {
   "cell_type": "code",
   "execution_count": 10,
   "metadata": {},
   "outputs": [],
   "source": [
    "def Hacky2step(x0,A,niters):\n",
    "    x = np.copy(x0)\n",
    "    residual = []\n",
    "    for i in range(niters):\n",
    "        U1 = U(x,1)\n",
    "        U2 = U(x,2)\n",
    "        U3 = U(x,3)\n",
    "        U4 = U(x,4)\n",
    "        step_size_optimal = (U1*U4-U2*U3-((U1**2)*(U4**2)-6*U1*U2*U3*U4+4*U1*(U3**3)+4*(U2**3)*U4-3*(U2**2)*(U3**2))**0.5)/(2*U2*U4-U3**2)\n",
    "        x = x - step_size_optimal*A@x\n",
    "        residual.append(U(x,0))\n",
    "        x= x -S(x,1)*A@x\n",
    "        residual.append(U(x,0))\n",
    "    return residual"
   ]
  },
  {
   "cell_type": "code",
   "execution_count": 11,
   "metadata": {},
   "outputs": [],
   "source": [
    "niters= 1000\n",
    "ansGD = GD(x_0,A,niters)\n",
    "ansPolyak = Polyak(x_0,A,niters)\n",
    "ansHacky1 = Hacky1(x_0,A,niters)\n",
    "ans2step = Hacky2step(x_0,A,niters//2)"
   ]
  },
  {
   "cell_type": "code",
   "execution_count": 12,
   "metadata": {},
   "outputs": [
    {
     "data": {
      "text/plain": [
       "<matplotlib.legend.Legend at 0x78b0b172dc60>"
      ]
     },
     "execution_count": 12,
     "metadata": {},
     "output_type": "execute_result"
    },
    {
     "data": {
      "image/png": "[encoded data removed]",
      "text/plain": [
       "<Figure size 432x288 with 1 Axes>"
      ]
     },
     "metadata": {
      "needs_background": "light"
     },
     "output_type": "display_data"
    }
   ],
   "source": [
    "val = [ansGD,ansPolyak,ansHacky1,ans2step ]\n",
    "labels = ['GD','Polyak','Hacky1','Hacky2step']\n",
    "markers = [',', 'o', '*',  'D']\n",
    "for i in range(len(val)):\n",
    "    plt.plot(val[i],label = labels[i],\n",
    "        marker=markers[i], markevery=20)\n",
    "plt.yscale('log')\n",
    "plt.xlabel(u'Iteration')\n",
    "plt.ylabel(r'$f(x)$')\n",
    "plt.legend()"
   ]
  }
 ],
 "metadata": {
  "kernelspec": {
   "display_name": "Python 3",
   "language": "python",
   "name": "python3"
  },
  "language_info": {
   "codemirror_mode": {
    "name": "ipython",
    "version": 3
   },
   "file_extension": ".py",
   "mimetype": "text/x-python",
   "name": "python",
   "nbconvert_exporter": "python",
   "pygments_lexer": "ipython3",
   "version": "3.10.12"
  }
 },
 "nbformat": 4,
 "nbformat_minor": 2
}
