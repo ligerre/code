{
 "cells": [
  {
   "cell_type": "code",
   "execution_count": 95,
   "metadata": {},
   "outputs": [],
   "source": [
    "import cvxpy as cvx\n",
    "import numpy as np\n",
    "import matplotlib.pyplot as plt\n",
    "import math\n",
    "%run -i algorithm.ipynb"
   ]
  },
  {
   "cell_type": "code",
   "execution_count": null,
   "metadata": {},
   "outputs": [],
   "source": [
    "def projsplx(y):\n",
    "    \"\"\"project down to the probability simplex\"\"\"\n",
    "    m=len(y)\n",
    "    bget = False\n",
    "    \n",
    "    s = sorted(np.array(y), reverse=True)\n",
    "    tmpsum = 0.0\n",
    "\n",
    "    for ii in range(m-1):\n",
    "        tmpsum = tmpsum + s[ii]\n",
    "        tmax = (tmpsum - 1.0) / (ii+1.0)\n",
    "        if tmax >= s[ii+1]:\n",
    "            bget = True\n",
    "            break\n",
    "\n",
    "    if bget == False:\n",
    "        tmax = (tmpsum + s[m-1] - 1.0) / m\n",
    "\n",
    "    x = np.maximum(np.array(y) - tmax, np.zeros(m))\n",
    "\n",
    "    return x\n"
   ]
  },
  {
   "cell_type": "code",
   "execution_count": 97,
   "metadata": {},
   "outputs": [],
   "source": [
    "def active_set(x):\n",
    "    tol = 10**(-8)\n",
    "    d = len(x)\n",
    "    activ = np.zeros((d,d))\n",
    "    val = -1\n",
    "    for i in range(d):\n",
    "        if x[i]>tol:\n",
    "            val = i\n",
    "            activ[i][i]=1\n",
    "    return activ,val\n"
   ]
  },
  {
   "cell_type": "code",
   "execution_count": 98,
   "metadata": {},
   "outputs": [],
   "source": [
    "def proj_normal_cone(x,y):\n",
    "    '''\n",
    "    return projection onto negative normal cone of simplex\n",
    "    '''\n",
    "    activ,val = active_set(x)\n",
    "    d = len(y)\n",
    "    x = cvx.Variable(d)\n",
    "    obj = cvx.Minimize(cvx.sum_squares(x - y))\n",
    "    if val == -1:\n",
    "        constr = [x<=0]\n",
    "    else:\n",
    "        slack = x[val]*np.ones(d)\n",
    "        constr = [x>=slack, activ@x == activ@slack]\n",
    "    prob = cvx.Problem(obj, constr)\n",
    "    prob.solve()\n",
    " \n",
    "    return np.array(x.value).squeeze()\n"
   ]
  },
  {
   "cell_type": "code",
   "execution_count": null,
   "metadata": {},
   "outputs": [],
   "source": [
    "def proj_unit(x):\n",
    "    \"\"\"project down to unit ball\"\"\"\n",
    "    if np.linalg.norm(x)>1:\n",
    "        return x/np.linalg.norm(x)\n",
    "    else:\n",
    "        return x"
   ]
  },
  {
   "cell_type": "code",
   "execution_count": 100,
   "metadata": {},
   "outputs": [],
   "source": [
    "def proj_unit_normal(x,y):\n",
    "    \"\"\"return projection of y to negative normal cone of x in unit sphere\"\"\"\n",
    "    tol = 10**(-8)\n",
    "    if np.linalg.norm(x)<1-tol:\n",
    "        return np.zeros(len(y))\n",
    "    else:\n",
    "        return max(0,np.dot(x,y))*x"
   ]
  },
  {
   "cell_type": "code",
   "execution_count": 101,
   "metadata": {},
   "outputs": [],
   "source": [
    "def ex(x):\n",
    "    val = np.log(np.sum(np.exp(x)))-np.dot(c,x)\n",
    "    grad = np.exp(x)/np.sum(np.exp(x))-c\n",
    "    return val, grad"
   ]
  },
  {
   "cell_type": "code",
   "execution_count": 102,
   "metadata": {},
   "outputs": [],
   "source": [
    "n = 300\n",
    "tol = 10**(-9)\n",
    "c = np.random.rand(n)"
   ]
  },
  {
   "cell_type": "code",
   "execution_count": 103,
   "metadata": {},
   "outputs": [],
   "source": [
    "x0 = np.random.rand(n)\n",
    "x0 = projsplx(x0)\n",
    "res1 = proj_GD(ex,projsplx,x0,1000)\n",
    "res2 = NCGD(ex,projsplx,proj_normal_cone,x0,1000)"
   ]
  },
  {
   "cell_type": "code",
   "execution_count": 104,
   "metadata": {},
   "outputs": [
    {
     "data": {
      "image/png": "[encoded data removed]",
      "text/plain": [
       "<Figure size 432x288 with 2 Axes>"
      ]
     },
     "metadata": {
      "needs_background": "light"
     },
     "output_type": "display_data"
    }
   ],
   "source": [
    "val = [res1,res2]\n",
    "labels = ['GD','NCGD']\n",
    "markers = ['*', 'o']\n",
    "figure,axis = plt.subplots(1,2)\n",
    "for i in range(len(val)):\n",
    "    axis[i].plot(val[i],label = labels[i],\n",
    "        marker=markers[i], markevery=20)\n",
    "    axis[i].legend()\n",
    "plt.xlabel(u'Iteration')\n",
    "plt.ylabel(r'$f(x)$')\n",
    "plt.show()"
   ]
  }
 ],
 "metadata": {
  "kernelspec": {
   "display_name": "Python 3",
   "language": "python",
   "name": "python3"
  },
  "language_info": {
   "codemirror_mode": {
    "name": "ipython",
    "version": 3
   },
   "file_extension": ".py",
   "mimetype": "text/x-python",
   "name": "python",
   "nbconvert_exporter": "python",
   "pygments_lexer": "ipython3",
   "version": "3.10.12"
  }
 },
 "nbformat": 4,
 "nbformat_minor": 2
}
