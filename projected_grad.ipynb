{
 "cells": [
  {
   "cell_type": "code",
   "execution_count": null,
   "metadata": {},
   "outputs": [],
   "source": [
    "import cvxpy as cvx\n",
    "import numpy as np\n",
    "from sklearn.datasets import make_blobs\n",
    "import matplotlib.pyplot as plt\n",
    "import math"
   ]
  },
  {
   "cell_type": "code",
   "execution_count": 49,
   "metadata": {},
   "outputs": [],
   "source": [
    "def projsplx(y):\n",
    "    \n",
    "    m=len(y)\n",
    "    bget = False\n",
    "    \n",
    "    s = sorted(np.array(y), reverse=True)\n",
    "    tmpsum = 0.0\n",
    "\n",
    "    for ii in range(m-1):\n",
    "        tmpsum = tmpsum + s[ii]\n",
    "        tmax = (tmpsum - 1.0) / (ii+1.0)\n",
    "        if tmax >= s[ii+1]:\n",
    "            bget = True\n",
    "            break\n",
    "\n",
    "    if bget == False:\n",
    "        tmax = (tmpsum + s[m-1] - 1.0) / m\n",
    "\n",
    "    x = np.maximum(np.array(y) - tmax, np.zeros(m))\n",
    "\n",
    "    return x\n"
   ]
  },
  {
   "cell_type": "code",
   "execution_count": 50,
   "metadata": {},
   "outputs": [],
   "source": [
    "def active_set(x):\n",
    "    tol = 10**(-8)\n",
    "    d = len(x)\n",
    "    activ = np.zeros((d,d))\n",
    "    val = -1\n",
    "    for i in range(d):\n",
    "        if x[i]>tol:\n",
    "            val = i\n",
    "            activ[i][i]=1\n",
    "    return activ,val\n"
   ]
  },
  {
   "cell_type": "code",
   "execution_count": 51,
   "metadata": {},
   "outputs": [],
   "source": [
    "def proj_normal_cone(y,activ,val):\n",
    "    '''\n",
    "    return projection onto negative normal cone of simplex\n",
    "    '''\n",
    "    d = len(y)\n",
    "    x = cvx.Variable(d)\n",
    "    obj = cvx.Minimize(cvx.sum_squares(x - y))\n",
    "    if val == -1:\n",
    "        constr = [x<=0]\n",
    "    else:\n",
    "        slack = x[val]*np.ones(d)\n",
    "        constr = [x>=slack, activ@x == activ@slack]\n",
    "    prob = cvx.Problem(obj, constr)\n",
    "    prob.solve()\n",
    " \n",
    "    return np.array(x.value).squeeze()\n"
   ]
  },
  {
   "cell_type": "code",
   "execution_count": 52,
   "metadata": {},
   "outputs": [
    {
     "name": "stdout",
     "output_type": "stream",
     "text": [
      "[0.         0.03956216 0.         0.24569816 0.         0.27278155\n",
      " 0.41603224 0.         0.         0.02592588]\n"
     ]
    },
    {
     "data": {
      "text/plain": [
       "0.9999999999999999"
      ]
     },
     "execution_count": 52,
     "metadata": {},
     "output_type": "execute_result"
    }
   ],
   "source": [
    "d = 10\n",
    "a = np.ones(d)\n",
    "y = np.random.rand(d)\n",
    "y_c = projsplx(y)\n",
    "print(y_c)\n",
    "s = 0\n",
    "for i in range(d):\n",
    "    s+=y_c[i]\n",
    "s"
   ]
  },
  {
   "cell_type": "code",
   "execution_count": 53,
   "metadata": {},
   "outputs": [
    {
     "data": {
      "text/plain": [
       "array([0.40414671, 0.87119909, 0.40414671, 0.40414671, 0.8152222 ,\n",
       "       0.40414671, 0.93354062, 0.40414671, 0.40414671, 0.60681141])"
      ]
     },
     "execution_count": 53,
     "metadata": {},
     "output_type": "execute_result"
    }
   ],
   "source": [
    "x = np.array([0.3,0,0.2,0,0,0.3,0,0.1,0.1,0])\n",
    "activ,val = active_set(x)\n",
    "y = np.random.rand(d)\n",
    "y_nc = proj_normal_cone(y,activ,val)\n",
    "y_nc"
   ]
  },
  {
   "cell_type": "code",
   "execution_count": null,
   "metadata": {},
   "outputs": [],
   "source": [
    "n = 100\n",
    "tol = 10**(-9)\n",
    "A = np.random.rand(n,n)\n",
    "A = A + A.transpose()\n",
    "C = np.random.rand(n)\n",
    "\n",
    "f = lambda x: 0.5 * np.dot(x,np.dot(A,x))-np.dot(x,C)"
   ]
  },
  {
   "cell_type": "code",
   "execution_count": null,
   "metadata": {},
   "outputs": [],
   "source": [
    "def proj_GD(x0,niters,lr=0.001):\n",
    "    x_k = np.copy(x0)\n",
    "    res = []\n",
    "    eta = lr\n",
    "    theta = 100000\n",
    "    res.append(f(x_k))\n",
    "\n",
    "    prev_x = np.copy(x_k)\n",
    "    x_k = projsplx(x_k-eta*(np.dot(A,x_k)-C))\n",
    "    res.append(f(x_k))\n",
    "    for i in range(niters):\n",
    "        if (np.linalg.norm(np.dot(A,x_k-prev_x))) < tol:\n",
    "            break\n",
    "        prev_eta = eta\n",
    "        eta = min(math.sqrt(1+theta)*prev_eta,np.linalg.norm(x_k-prev_x)/(2*np.linalg.norm(np.dot(A,x_k-prev_x))))\n",
    "\n",
    "        prev_x = np.copy(x_k)\n",
    "        x_k = projsplx(x_k-eta*(np.dot(A,x_k)-C))\n",
    "        res.append(f(x_k))\n",
    "\n",
    "        theta = eta/prev_eta\n",
    "    \n",
    "    return res\n"
   ]
  },
  {
   "cell_type": "code",
   "execution_count": null,
   "metadata": {},
   "outputs": [],
   "source": [
    "def NCGD(x0,niters,lr=0.001):\n",
    "    x_k = np.copy(x0)\n",
    "    res = []\n",
    "    eta = lr\n",
    "    theta = 100000\n",
    "    res.append(f(x_k))\n",
    "\n",
    "    prev_x = np.copy(x_k)\n",
    "    grad_x = np.dot(A,x_k)-C\n",
    "    activ,val = active_set(grad_x)\n",
    "    grad_x = grad_x - proj_normal_cone(grad_x,activ,val)\n",
    "    x_k = projsplx(x_k-eta*grad_x)\n",
    "    res.append(f(x_k))\n",
    "    for i in range(niters):\n",
    "        if (np.linalg.norm(np.dot(A,x_k-prev_x))) < tol:\n",
    "            break\n",
    "        prev_eta = eta\n",
    "        eta = min(math.sqrt(1+theta)*prev_eta,np.linalg.norm(x_k-prev_x)/(2*np.linalg.norm(np.dot(A,x_k-prev_x))))\n",
    "\n",
    "        prev_x = np.copy(x_k)\n",
    "        grad_x = np.dot(A,x_k)-C\n",
    "        activ,val = active_set(grad_x)\n",
    "        grad_x = grad_x - proj_normal_cone(grad_x,activ,val)\n",
    "        x_k = projsplx(x_k-eta*grad_x)\n",
    "        res.append(f(x_k))\n",
    "\n",
    "        theta = eta/prev_eta\n",
    "    \n",
    "    return res"
   ]
  },
  {
   "cell_type": "code",
   "execution_count": null,
   "metadata": {},
   "outputs": [],
   "source": [
    "x0 = np.random.rand(n)\n",
    "res1 = proj_GD(x0,1000)\n",
    "res2 = NCGD(x0,1000)"
   ]
  },
  {
   "cell_type": "code",
   "execution_count": null,
   "metadata": {},
   "outputs": [],
   "source": [
    "val = [res1,res2]\n",
    "labels = ['GD','NCGD']\n",
    "markers = ['*', 'o']\n",
    "for i in range(len(val)):\n",
    "    plt.plot(val[i],label = labels[i],\n",
    "        marker=markers[i], markevery=20)\n",
    "plt.xlabel(u'Iteration')\n",
    "plt.ylabel(r'$f(x)$')\n",
    "plt.legend()"
   ]
  }
 ],
 "metadata": {
  "kernelspec": {
   "display_name": "Python 3",
   "language": "python",
   "name": "python3"
  },
  "language_info": {
   "codemirror_mode": {
    "name": "ipython",
    "version": 3
   },
   "file_extension": ".py",
   "mimetype": "text/x-python",
   "name": "python",
   "nbconvert_exporter": "python",
   "pygments_lexer": "ipython3",
   "version": "3.10.12"
  }
 },
 "nbformat": 4,
 "nbformat_minor": 2
}
